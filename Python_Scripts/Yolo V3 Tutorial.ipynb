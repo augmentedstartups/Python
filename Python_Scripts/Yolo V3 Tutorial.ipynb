{
 "cells": [
  {
   "cell_type": "markdown",
   "metadata": {},
   "source": [
    "# Step 1: Organizing the Data\n",
    "\n",
    "In your folder, ensure to separate your dataset into two folders\n",
    "* jpeg - folder containing all your images\n",
    "* annot - Folder containing all your .xml annotations"
   ]
  },
  {
   "cell_type": "markdown",
   "metadata": {},
   "source": [
    "# Step 2: Converting .xml to Yolo .txt\n",
    "Yolo v3 requires a special format for training. You can either use an app called [LabelImg](https://github.com/tzutalin/labelImg) to generate the required yolo .txt format or you can use it for generating .xml files. You can skip this step if you already have your data in .txt yolo format shown by the examples below:\n",
    "\n",
    "* class_number box1_x1_ratio box1_y1_ratio box1_width_ratio box1_height_ratio\n",
    "* class_number box2_x1_ratio box2_y1_ratio box2_width_ratio box2_height_ratio\n",
    "\n",
    "* 0 0.123552123552 0.559278350515 0.0926640926641 0.10824742268\n",
    "* 0 0.743243243243 0.585051546392 0.0579150579151 0.0773195876289\n",
    "\n",
    "## 2.1 Clone Convert2Yolo Github Repo\n",
    "git clone https://github.com/Isabek/XmlToTxt\n",
    "\n",
    "Follow the instructions to Convert from VOC .xml to yolo .txt\n",
    "Dont forget to edit the class.txt with all classes otherwise you'll get the 'KeyError' error.\n",
    "\n",
    "\n"
   ]
  },
  {
   "cell_type": "markdown",
   "metadata": {},
   "source": [
    "# Step 3: Data Preparation\n",
    "\n",
    "After data pre-processing your data should be in the form of following format.\n",
    "\n",
    "1. Train.txt file contain URL list of your training images data like this\n",
    "    * F:/yolotrain/VOCdevkit/VOC2012/jpeg/1.jpg\n",
    "    * F:/yolotrain/VOCdevkit/VOC2012/jpeg/2.jpg\n",
    "\n",
    "2. Test.txt file contain URL list of test image data\n",
    "\n",
    "3. Annotation files should be in yolo v3 format (We did this in Step 2)\n",
    "    * 19 0.482 0.4053333333333333 0.8280000000000001 0.752"
   ]
  },
  {
   "cell_type": "code",
   "execution_count": null,
   "metadata": {},
   "outputs": [],
   "source": []
  },
  {
   "cell_type": "code",
   "execution_count": null,
   "metadata": {},
   "outputs": [],
   "source": []
  }
 ],
 "metadata": {
  "kernelspec": {
   "display_name": "Python 3",
   "language": "python",
   "name": "python3"
  },
  "language_info": {
   "codemirror_mode": {
    "name": "ipython",
    "version": 3
   },
   "file_extension": ".py",
   "mimetype": "text/x-python",
   "name": "python",
   "nbconvert_exporter": "python",
   "pygments_lexer": "ipython3",
   "version": "3.6.5"
  }
 },
 "nbformat": 4,
 "nbformat_minor": 2
}
